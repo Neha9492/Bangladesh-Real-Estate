{
  "nbformat": 4,
  "nbformat_minor": 0,
  "metadata": {
    "colab": {
      "provenance": [],
      "authorship_tag": "ABX9TyMhFhbLObHtxbYuk7ljWmn5",
      "include_colab_link": true
    },
    "kernelspec": {
      "name": "python3",
      "display_name": "Python 3"
    },
    "language_info": {
      "name": "python"
    }
  },
  "cells": [
    {
      "cell_type": "markdown",
      "metadata": {
        "id": "view-in-github",
        "colab_type": "text"
      },
      "source": [
        "<a href=\"https://colab.research.google.com/github/Neha9492/Bangladesh-Real-Estate/blob/main/RealEstateBangladesh.ipynb\" target=\"_parent\"><img src=\"https://colab.research.google.com/assets/colab-badge.svg\" alt=\"Open In Colab\"/></a>"
      ]
    },
    {
      "cell_type": "markdown",
      "source": [
        "##Import relevant libraries and the data file"
      ],
      "metadata": {
        "id": "MEpCt7f9VA86"
      }
    },
    {
      "cell_type": "code",
      "execution_count": 66,
      "metadata": {
        "id": "0Oc2ksDfU95i"
      },
      "outputs": [],
      "source": [
        "import pandas as pd\n",
        "import numpy as np"
      ]
    },
    {
      "cell_type": "code",
      "source": [
        "valDf = pd.read_csv('./naveenkumar_propertyfinderbd.csv')"
      ],
      "metadata": {
        "id": "rlZgC3p1VDqf"
      },
      "execution_count": 67,
      "outputs": []
    },
    {
      "cell_type": "markdown",
      "source": [
        "##Sneak peek into the original data file"
      ],
      "metadata": {
        "id": "X-_GCUdcm1Gr"
      }
    },
    {
      "cell_type": "code",
      "source": [
        "valDf.head()"
      ],
      "metadata": {
        "colab": {
          "base_uri": "https://localhost:8080/",
          "height": 734
        },
        "id": "eopdz51ZVZgS",
        "outputId": "9def96b0-72c8-452e-e5f2-3f8a7aef7f9c"
      },
      "execution_count": 68,
      "outputs": [
        {
          "output_type": "execute_result",
          "data": {
            "text/plain": [
              "                    added_on  \\\n",
              "0   Thu, Apr 6, 2023 7:49 PM   \n",
              "1   Sun, Apr 9, 2023 9:21 AM   \n",
              "2  Wed, Mar 22, 2023 8:42 AM   \n",
              "3  Mon, Mar 20, 2023 5:55 AM   \n",
              "4   Wed, Apr 5, 2023 5:50 AM   \n",
              "\n",
              "                                             address  \\\n",
              "0          CHETONA TOWER, 274/4, Mirpur 60 fit road.   \n",
              "1                                     Gulshan Avenue   \n",
              "2  JCX TOWER,1136/A, Block-I, Level 5, Japan Stre...   \n",
              "3                                     Gulshan Avenue   \n",
              "4  Sardar Complex, 1 South komlapur. Motijheel, D...   \n",
              "\n",
              "                                  area  \\\n",
              "0                        Mirpur, Dhaka   \n",
              "1                Gulshan Avenue, Dhaka   \n",
              "2  Bashundhara Residential Area, Dhaka   \n",
              "3                Gulshan Avenue, Dhaka   \n",
              "4                     Motijheel, Dhaka   \n",
              "\n",
              "                                             details fire_exit    generator  \\\n",
              "0  Flat sale\\nReady Flat 1000 / 1200 / 1400 Squar...       NaN          NaN   \n",
              "1  Gulshan avenue is the most expensive and sough...       Yes          NaN   \n",
              "2  Two Room Furnished Serviced Apartment RENT in ...       Yes  Full Backup   \n",
              "3  Fully furnished 7000 sft office available for ...       Yes  Full Backup   \n",
              "4                                         open space       NaN  Full Backup   \n",
              "\n",
              "   gym                last_updated lift offered_floor  ... property_category  \\\n",
              "0  NaN    Sun, Apr 9, 2023 5:12 AM  NaN             5  ...       Residential   \n",
              "1  NaN    Sun, Apr 9, 2023 9:21 AM  Yes             5  ...        Commercial   \n",
              "2  NaN  Sat, Mar 25, 2023 10:26 AM  Yes             4  ...       Residential   \n",
              "3  NaN   Mon, Mar 20, 2023 5:55 AM  Yes             7  ...        Commercial   \n",
              "4  NaN   Sat, Apr 8, 2023 11:46 AM  NaN             1  ...        Commercial   \n",
              "\n",
              "  property_id property_size      property_type  \\\n",
              "0         864          1200          Apartment   \n",
              "1         875          2500       Office Space   \n",
              "2         821           375  Service Apartment   \n",
              "3         815          7000             Office   \n",
              "4         856          9000      Factory Shade   \n",
              "\n",
              "                                        property_url  rent_or_sale  \\\n",
              "0  https://propertyfinderbd.com/property-details/864          Sale   \n",
              "1  https://propertyfinderbd.com/property-details/875          Rent   \n",
              "2  https://propertyfinderbd.com/property-details/821          Rent   \n",
              "3  https://propertyfinderbd.com/property-details/815          Rent   \n",
              "4  https://propertyfinderbd.com/property-details/856          Rent   \n",
              "\n",
              "  rooftop_garden swimming_pool  \\\n",
              "0            NaN           NaN   \n",
              "1            Yes           NaN   \n",
              "2            NaN           NaN   \n",
              "3            Yes           NaN   \n",
              "4            NaN           NaN   \n",
              "\n",
              "                                               title total_bathrooms  \n",
              "0  Ready Flat 1000 / 1200 / 1400 Square Feet Flat...               3  \n",
              "1   2500 sft office space for rent in Gulshan Avenue             NaN  \n",
              "2  Two Room Furnished Serviced Apartment RENT in ...               1  \n",
              "3  Ready Fully furnished 7,000 sft office for ren...             NaN  \n",
              "4                              Office space for rent              10  \n",
              "\n",
              "[5 rows x 23 columns]"
            ],
            "text/html": [
              "\n",
              "  <div id=\"df-49fcd838-50f0-429e-b55b-b87e8d7da729\">\n",
              "    <div class=\"colab-df-container\">\n",
              "      <div>\n",
              "<style scoped>\n",
              "    .dataframe tbody tr th:only-of-type {\n",
              "        vertical-align: middle;\n",
              "    }\n",
              "\n",
              "    .dataframe tbody tr th {\n",
              "        vertical-align: top;\n",
              "    }\n",
              "\n",
              "    .dataframe thead th {\n",
              "        text-align: right;\n",
              "    }\n",
              "</style>\n",
              "<table border=\"1\" class=\"dataframe\">\n",
              "  <thead>\n",
              "    <tr style=\"text-align: right;\">\n",
              "      <th></th>\n",
              "      <th>added_on</th>\n",
              "      <th>address</th>\n",
              "      <th>area</th>\n",
              "      <th>details</th>\n",
              "      <th>fire_exit</th>\n",
              "      <th>generator</th>\n",
              "      <th>gym</th>\n",
              "      <th>last_updated</th>\n",
              "      <th>lift</th>\n",
              "      <th>offered_floor</th>\n",
              "      <th>...</th>\n",
              "      <th>property_category</th>\n",
              "      <th>property_id</th>\n",
              "      <th>property_size</th>\n",
              "      <th>property_type</th>\n",
              "      <th>property_url</th>\n",
              "      <th>rent_or_sale</th>\n",
              "      <th>rooftop_garden</th>\n",
              "      <th>swimming_pool</th>\n",
              "      <th>title</th>\n",
              "      <th>total_bathrooms</th>\n",
              "    </tr>\n",
              "  </thead>\n",
              "  <tbody>\n",
              "    <tr>\n",
              "      <th>0</th>\n",
              "      <td>Thu, Apr 6, 2023 7:49 PM</td>\n",
              "      <td>CHETONA TOWER, 274/4, Mirpur 60 fit road.</td>\n",
              "      <td>Mirpur, Dhaka</td>\n",
              "      <td>Flat sale\\nReady Flat 1000 / 1200 / 1400 Squar...</td>\n",
              "      <td>NaN</td>\n",
              "      <td>NaN</td>\n",
              "      <td>NaN</td>\n",
              "      <td>Sun, Apr 9, 2023 5:12 AM</td>\n",
              "      <td>NaN</td>\n",
              "      <td>5</td>\n",
              "      <td>...</td>\n",
              "      <td>Residential</td>\n",
              "      <td>864</td>\n",
              "      <td>1200</td>\n",
              "      <td>Apartment</td>\n",
              "      <td>https://propertyfinderbd.com/property-details/864</td>\n",
              "      <td>Sale</td>\n",
              "      <td>NaN</td>\n",
              "      <td>NaN</td>\n",
              "      <td>Ready Flat 1000 / 1200 / 1400 Square Feet Flat...</td>\n",
              "      <td>3</td>\n",
              "    </tr>\n",
              "    <tr>\n",
              "      <th>1</th>\n",
              "      <td>Sun, Apr 9, 2023 9:21 AM</td>\n",
              "      <td>Gulshan Avenue</td>\n",
              "      <td>Gulshan Avenue, Dhaka</td>\n",
              "      <td>Gulshan avenue is the most expensive and sough...</td>\n",
              "      <td>Yes</td>\n",
              "      <td>NaN</td>\n",
              "      <td>NaN</td>\n",
              "      <td>Sun, Apr 9, 2023 9:21 AM</td>\n",
              "      <td>Yes</td>\n",
              "      <td>5</td>\n",
              "      <td>...</td>\n",
              "      <td>Commercial</td>\n",
              "      <td>875</td>\n",
              "      <td>2500</td>\n",
              "      <td>Office Space</td>\n",
              "      <td>https://propertyfinderbd.com/property-details/875</td>\n",
              "      <td>Rent</td>\n",
              "      <td>Yes</td>\n",
              "      <td>NaN</td>\n",
              "      <td>2500 sft office space for rent in Gulshan Avenue</td>\n",
              "      <td>NaN</td>\n",
              "    </tr>\n",
              "    <tr>\n",
              "      <th>2</th>\n",
              "      <td>Wed, Mar 22, 2023 8:42 AM</td>\n",
              "      <td>JCX TOWER,1136/A, Block-I, Level 5, Japan Stre...</td>\n",
              "      <td>Bashundhara Residential Area, Dhaka</td>\n",
              "      <td>Two Room Furnished Serviced Apartment RENT in ...</td>\n",
              "      <td>Yes</td>\n",
              "      <td>Full Backup</td>\n",
              "      <td>NaN</td>\n",
              "      <td>Sat, Mar 25, 2023 10:26 AM</td>\n",
              "      <td>Yes</td>\n",
              "      <td>4</td>\n",
              "      <td>...</td>\n",
              "      <td>Residential</td>\n",
              "      <td>821</td>\n",
              "      <td>375</td>\n",
              "      <td>Service Apartment</td>\n",
              "      <td>https://propertyfinderbd.com/property-details/821</td>\n",
              "      <td>Rent</td>\n",
              "      <td>NaN</td>\n",
              "      <td>NaN</td>\n",
              "      <td>Two Room Furnished Serviced Apartment RENT in ...</td>\n",
              "      <td>1</td>\n",
              "    </tr>\n",
              "    <tr>\n",
              "      <th>3</th>\n",
              "      <td>Mon, Mar 20, 2023 5:55 AM</td>\n",
              "      <td>Gulshan Avenue</td>\n",
              "      <td>Gulshan Avenue, Dhaka</td>\n",
              "      <td>Fully furnished 7000 sft office available for ...</td>\n",
              "      <td>Yes</td>\n",
              "      <td>Full Backup</td>\n",
              "      <td>NaN</td>\n",
              "      <td>Mon, Mar 20, 2023 5:55 AM</td>\n",
              "      <td>Yes</td>\n",
              "      <td>7</td>\n",
              "      <td>...</td>\n",
              "      <td>Commercial</td>\n",
              "      <td>815</td>\n",
              "      <td>7000</td>\n",
              "      <td>Office</td>\n",
              "      <td>https://propertyfinderbd.com/property-details/815</td>\n",
              "      <td>Rent</td>\n",
              "      <td>Yes</td>\n",
              "      <td>NaN</td>\n",
              "      <td>Ready Fully furnished 7,000 sft office for ren...</td>\n",
              "      <td>NaN</td>\n",
              "    </tr>\n",
              "    <tr>\n",
              "      <th>4</th>\n",
              "      <td>Wed, Apr 5, 2023 5:50 AM</td>\n",
              "      <td>Sardar Complex, 1 South komlapur. Motijheel, D...</td>\n",
              "      <td>Motijheel, Dhaka</td>\n",
              "      <td>open space</td>\n",
              "      <td>NaN</td>\n",
              "      <td>Full Backup</td>\n",
              "      <td>NaN</td>\n",
              "      <td>Sat, Apr 8, 2023 11:46 AM</td>\n",
              "      <td>NaN</td>\n",
              "      <td>1</td>\n",
              "      <td>...</td>\n",
              "      <td>Commercial</td>\n",
              "      <td>856</td>\n",
              "      <td>9000</td>\n",
              "      <td>Factory Shade</td>\n",
              "      <td>https://propertyfinderbd.com/property-details/856</td>\n",
              "      <td>Rent</td>\n",
              "      <td>NaN</td>\n",
              "      <td>NaN</td>\n",
              "      <td>Office space for rent</td>\n",
              "      <td>10</td>\n",
              "    </tr>\n",
              "  </tbody>\n",
              "</table>\n",
              "<p>5 rows × 23 columns</p>\n",
              "</div>\n",
              "      <button class=\"colab-df-convert\" onclick=\"convertToInteractive('df-49fcd838-50f0-429e-b55b-b87e8d7da729')\"\n",
              "              title=\"Convert this dataframe to an interactive table.\"\n",
              "              style=\"display:none;\">\n",
              "        \n",
              "  <svg xmlns=\"http://www.w3.org/2000/svg\" height=\"24px\"viewBox=\"0 0 24 24\"\n",
              "       width=\"24px\">\n",
              "    <path d=\"M0 0h24v24H0V0z\" fill=\"none\"/>\n",
              "    <path d=\"M18.56 5.44l.94 2.06.94-2.06 2.06-.94-2.06-.94-.94-2.06-.94 2.06-2.06.94zm-11 1L8.5 8.5l.94-2.06 2.06-.94-2.06-.94L8.5 2.5l-.94 2.06-2.06.94zm10 10l.94 2.06.94-2.06 2.06-.94-2.06-.94-.94-2.06-.94 2.06-2.06.94z\"/><path d=\"M17.41 7.96l-1.37-1.37c-.4-.4-.92-.59-1.43-.59-.52 0-1.04.2-1.43.59L10.3 9.45l-7.72 7.72c-.78.78-.78 2.05 0 2.83L4 21.41c.39.39.9.59 1.41.59.51 0 1.02-.2 1.41-.59l7.78-7.78 2.81-2.81c.8-.78.8-2.07 0-2.86zM5.41 20L4 18.59l7.72-7.72 1.47 1.35L5.41 20z\"/>\n",
              "  </svg>\n",
              "      </button>\n",
              "      \n",
              "  <style>\n",
              "    .colab-df-container {\n",
              "      display:flex;\n",
              "      flex-wrap:wrap;\n",
              "      gap: 12px;\n",
              "    }\n",
              "\n",
              "    .colab-df-convert {\n",
              "      background-color: #E8F0FE;\n",
              "      border: none;\n",
              "      border-radius: 50%;\n",
              "      cursor: pointer;\n",
              "      display: none;\n",
              "      fill: #1967D2;\n",
              "      height: 32px;\n",
              "      padding: 0 0 0 0;\n",
              "      width: 32px;\n",
              "    }\n",
              "\n",
              "    .colab-df-convert:hover {\n",
              "      background-color: #E2EBFA;\n",
              "      box-shadow: 0px 1px 2px rgba(60, 64, 67, 0.3), 0px 1px 3px 1px rgba(60, 64, 67, 0.15);\n",
              "      fill: #174EA6;\n",
              "    }\n",
              "\n",
              "    [theme=dark] .colab-df-convert {\n",
              "      background-color: #3B4455;\n",
              "      fill: #D2E3FC;\n",
              "    }\n",
              "\n",
              "    [theme=dark] .colab-df-convert:hover {\n",
              "      background-color: #434B5C;\n",
              "      box-shadow: 0px 1px 3px 1px rgba(0, 0, 0, 0.15);\n",
              "      filter: drop-shadow(0px 1px 2px rgba(0, 0, 0, 0.3));\n",
              "      fill: #FFFFFF;\n",
              "    }\n",
              "  </style>\n",
              "\n",
              "      <script>\n",
              "        const buttonEl =\n",
              "          document.querySelector('#df-49fcd838-50f0-429e-b55b-b87e8d7da729 button.colab-df-convert');\n",
              "        buttonEl.style.display =\n",
              "          google.colab.kernel.accessAllowed ? 'block' : 'none';\n",
              "\n",
              "        async function convertToInteractive(key) {\n",
              "          const element = document.querySelector('#df-49fcd838-50f0-429e-b55b-b87e8d7da729');\n",
              "          const dataTable =\n",
              "            await google.colab.kernel.invokeFunction('convertToInteractive',\n",
              "                                                     [key], {});\n",
              "          if (!dataTable) return;\n",
              "\n",
              "          const docLinkHtml = 'Like what you see? Visit the ' +\n",
              "            '<a target=\"_blank\" href=https://colab.research.google.com/notebooks/data_table.ipynb>data table notebook</a>'\n",
              "            + ' to learn more about interactive tables.';\n",
              "          element.innerHTML = '';\n",
              "          dataTable['output_type'] = 'display_data';\n",
              "          await google.colab.output.renderOutput(dataTable, element);\n",
              "          const docLink = document.createElement('div');\n",
              "          docLink.innerHTML = docLinkHtml;\n",
              "          element.appendChild(docLink);\n",
              "        }\n",
              "      </script>\n",
              "    </div>\n",
              "  </div>\n",
              "  "
            ]
          },
          "metadata": {},
          "execution_count": 68
        }
      ]
    },
    {
      "cell_type": "code",
      "source": [
        "valDf.info()\n",
        "valDf.describe()"
      ],
      "metadata": {
        "colab": {
          "base_uri": "https://localhost:8080/",
          "height": 821
        },
        "id": "m0oKam5GVdfy",
        "outputId": "c2301be8-2f7e-4dcf-b4ae-6b5be332129c"
      },
      "execution_count": 69,
      "outputs": [
        {
          "output_type": "stream",
          "name": "stdout",
          "text": [
            "<class 'pandas.core.frame.DataFrame'>\n",
            "RangeIndex: 555 entries, 0 to 554\n",
            "Data columns (total 23 columns):\n",
            " #   Column             Non-Null Count  Dtype \n",
            "---  ------             --------------  ----- \n",
            " 0   added_on           555 non-null    object\n",
            " 1   address            555 non-null    object\n",
            " 2   area               555 non-null    object\n",
            " 3   details            555 non-null    object\n",
            " 4   fire_exit          249 non-null    object\n",
            " 5   generator          505 non-null    object\n",
            " 6   gym                58 non-null     object\n",
            " 7   last_updated       555 non-null    object\n",
            " 8   lift               294 non-null    object\n",
            " 9   offered_floor      491 non-null    object\n",
            " 10  parking            396 non-null    object\n",
            " 11  present_status     555 non-null    object\n",
            " 12  price              555 non-null    object\n",
            " 13  property_category  555 non-null    object\n",
            " 14  property_id        555 non-null    int64 \n",
            " 15  property_size      555 non-null    int64 \n",
            " 16  property_type      555 non-null    object\n",
            " 17  property_url       555 non-null    object\n",
            " 18  rent_or_sale       555 non-null    object\n",
            " 19  rooftop_garden     201 non-null    object\n",
            " 20  swimming_pool      31 non-null     object\n",
            " 21  title              555 non-null    object\n",
            " 22  total_bathrooms    406 non-null    object\n",
            "dtypes: int64(2), object(21)\n",
            "memory usage: 99.9+ KB\n"
          ]
        },
        {
          "output_type": "execute_result",
          "data": {
            "text/plain": [
              "       property_id  property_size\n",
              "count   555.000000   5.550000e+02\n",
              "mean    383.983784   2.539706e+04\n",
              "std     239.644234   9.207220e+04\n",
              "min      22.000000   0.000000e+00\n",
              "25%     170.500000   1.362500e+03\n",
              "50%     364.000000   3.000000e+03\n",
              "75%     583.000000   1.591250e+04\n",
              "max     875.000000   1.180800e+06"
            ],
            "text/html": [
              "\n",
              "  <div id=\"df-c1b6aeb6-3820-4dfc-bcb1-330e83e14a7a\">\n",
              "    <div class=\"colab-df-container\">\n",
              "      <div>\n",
              "<style scoped>\n",
              "    .dataframe tbody tr th:only-of-type {\n",
              "        vertical-align: middle;\n",
              "    }\n",
              "\n",
              "    .dataframe tbody tr th {\n",
              "        vertical-align: top;\n",
              "    }\n",
              "\n",
              "    .dataframe thead th {\n",
              "        text-align: right;\n",
              "    }\n",
              "</style>\n",
              "<table border=\"1\" class=\"dataframe\">\n",
              "  <thead>\n",
              "    <tr style=\"text-align: right;\">\n",
              "      <th></th>\n",
              "      <th>property_id</th>\n",
              "      <th>property_size</th>\n",
              "    </tr>\n",
              "  </thead>\n",
              "  <tbody>\n",
              "    <tr>\n",
              "      <th>count</th>\n",
              "      <td>555.000000</td>\n",
              "      <td>5.550000e+02</td>\n",
              "    </tr>\n",
              "    <tr>\n",
              "      <th>mean</th>\n",
              "      <td>383.983784</td>\n",
              "      <td>2.539706e+04</td>\n",
              "    </tr>\n",
              "    <tr>\n",
              "      <th>std</th>\n",
              "      <td>239.644234</td>\n",
              "      <td>9.207220e+04</td>\n",
              "    </tr>\n",
              "    <tr>\n",
              "      <th>min</th>\n",
              "      <td>22.000000</td>\n",
              "      <td>0.000000e+00</td>\n",
              "    </tr>\n",
              "    <tr>\n",
              "      <th>25%</th>\n",
              "      <td>170.500000</td>\n",
              "      <td>1.362500e+03</td>\n",
              "    </tr>\n",
              "    <tr>\n",
              "      <th>50%</th>\n",
              "      <td>364.000000</td>\n",
              "      <td>3.000000e+03</td>\n",
              "    </tr>\n",
              "    <tr>\n",
              "      <th>75%</th>\n",
              "      <td>583.000000</td>\n",
              "      <td>1.591250e+04</td>\n",
              "    </tr>\n",
              "    <tr>\n",
              "      <th>max</th>\n",
              "      <td>875.000000</td>\n",
              "      <td>1.180800e+06</td>\n",
              "    </tr>\n",
              "  </tbody>\n",
              "</table>\n",
              "</div>\n",
              "      <button class=\"colab-df-convert\" onclick=\"convertToInteractive('df-c1b6aeb6-3820-4dfc-bcb1-330e83e14a7a')\"\n",
              "              title=\"Convert this dataframe to an interactive table.\"\n",
              "              style=\"display:none;\">\n",
              "        \n",
              "  <svg xmlns=\"http://www.w3.org/2000/svg\" height=\"24px\"viewBox=\"0 0 24 24\"\n",
              "       width=\"24px\">\n",
              "    <path d=\"M0 0h24v24H0V0z\" fill=\"none\"/>\n",
              "    <path d=\"M18.56 5.44l.94 2.06.94-2.06 2.06-.94-2.06-.94-.94-2.06-.94 2.06-2.06.94zm-11 1L8.5 8.5l.94-2.06 2.06-.94-2.06-.94L8.5 2.5l-.94 2.06-2.06.94zm10 10l.94 2.06.94-2.06 2.06-.94-2.06-.94-.94-2.06-.94 2.06-2.06.94z\"/><path d=\"M17.41 7.96l-1.37-1.37c-.4-.4-.92-.59-1.43-.59-.52 0-1.04.2-1.43.59L10.3 9.45l-7.72 7.72c-.78.78-.78 2.05 0 2.83L4 21.41c.39.39.9.59 1.41.59.51 0 1.02-.2 1.41-.59l7.78-7.78 2.81-2.81c.8-.78.8-2.07 0-2.86zM5.41 20L4 18.59l7.72-7.72 1.47 1.35L5.41 20z\"/>\n",
              "  </svg>\n",
              "      </button>\n",
              "      \n",
              "  <style>\n",
              "    .colab-df-container {\n",
              "      display:flex;\n",
              "      flex-wrap:wrap;\n",
              "      gap: 12px;\n",
              "    }\n",
              "\n",
              "    .colab-df-convert {\n",
              "      background-color: #E8F0FE;\n",
              "      border: none;\n",
              "      border-radius: 50%;\n",
              "      cursor: pointer;\n",
              "      display: none;\n",
              "      fill: #1967D2;\n",
              "      height: 32px;\n",
              "      padding: 0 0 0 0;\n",
              "      width: 32px;\n",
              "    }\n",
              "\n",
              "    .colab-df-convert:hover {\n",
              "      background-color: #E2EBFA;\n",
              "      box-shadow: 0px 1px 2px rgba(60, 64, 67, 0.3), 0px 1px 3px 1px rgba(60, 64, 67, 0.15);\n",
              "      fill: #174EA6;\n",
              "    }\n",
              "\n",
              "    [theme=dark] .colab-df-convert {\n",
              "      background-color: #3B4455;\n",
              "      fill: #D2E3FC;\n",
              "    }\n",
              "\n",
              "    [theme=dark] .colab-df-convert:hover {\n",
              "      background-color: #434B5C;\n",
              "      box-shadow: 0px 1px 3px 1px rgba(0, 0, 0, 0.15);\n",
              "      filter: drop-shadow(0px 1px 2px rgba(0, 0, 0, 0.3));\n",
              "      fill: #FFFFFF;\n",
              "    }\n",
              "  </style>\n",
              "\n",
              "      <script>\n",
              "        const buttonEl =\n",
              "          document.querySelector('#df-c1b6aeb6-3820-4dfc-bcb1-330e83e14a7a button.colab-df-convert');\n",
              "        buttonEl.style.display =\n",
              "          google.colab.kernel.accessAllowed ? 'block' : 'none';\n",
              "\n",
              "        async function convertToInteractive(key) {\n",
              "          const element = document.querySelector('#df-c1b6aeb6-3820-4dfc-bcb1-330e83e14a7a');\n",
              "          const dataTable =\n",
              "            await google.colab.kernel.invokeFunction('convertToInteractive',\n",
              "                                                     [key], {});\n",
              "          if (!dataTable) return;\n",
              "\n",
              "          const docLinkHtml = 'Like what you see? Visit the ' +\n",
              "            '<a target=\"_blank\" href=https://colab.research.google.com/notebooks/data_table.ipynb>data table notebook</a>'\n",
              "            + ' to learn more about interactive tables.';\n",
              "          element.innerHTML = '';\n",
              "          dataTable['output_type'] = 'display_data';\n",
              "          await google.colab.output.renderOutput(dataTable, element);\n",
              "          const docLink = document.createElement('div');\n",
              "          docLink.innerHTML = docLinkHtml;\n",
              "          element.appendChild(docLink);\n",
              "        }\n",
              "      </script>\n",
              "    </div>\n",
              "  </div>\n",
              "  "
            ]
          },
          "metadata": {},
          "execution_count": 69
        }
      ]
    },
    {
      "cell_type": "markdown",
      "source": [
        "##Replace the original column names with the column names given as project standard"
      ],
      "metadata": {
        "id": "Nuq9dVv4m91_"
      }
    },
    {
      "cell_type": "code",
      "source": [
        "valDf.rename(columns = {'property_size':'AREA'}, inplace = True)\n",
        "valDf.rename(columns = {'rent_or_sale':'PURPOSE'}, inplace = True)\n",
        "valDf.rename(columns = {'property_overview':'TITLE'}, inplace = True)\n",
        "valDf.rename(columns = {'property_description':'DETAILS'}, inplace = True)\n",
        "valDf.rename(columns = {'property_category':'BUILDING_NATURE'}, inplace = True)\n",
        "valDf.rename(columns = {'property_type':'BUILDING_TYPE'}, inplace = True)\n",
        "valDf.rename(columns = {'num_bath_rooms':'TOTAL_BATHROOMS'}, inplace = True)\n",
        "valDf.rename(columns = {'fire_exit':'K1'}, inplace = True)\n",
        "valDf.rename(columns = {'generator':'K2'}, inplace = True)\n",
        "valDf.rename(columns = {'gym':'K3'}, inplace = True)\n",
        "valDf.rename(columns = {'lift':'K4'}, inplace = True)\n",
        "valDf.rename(columns = {'offered_floor':'K5'}, inplace = True)\n",
        "valDf.rename(columns = {'parking':'K6'}, inplace = True)\n",
        "valDf.rename(columns = {'present_status':'K7'}, inplace = True)\n",
        "valDf.rename(columns = {'rooftop_garden':'K8'}, inplace = True)\n",
        "valDf.rename(columns = {'swimming_pool':'K9'}, inplace = True)\n"
      ],
      "metadata": {
        "id": "pFe737iKaUDS"
      },
      "execution_count": 70,
      "outputs": []
    },
    {
      "cell_type": "code",
      "source": [
        "valDf.info()"
      ],
      "metadata": {
        "colab": {
          "base_uri": "https://localhost:8080/"
        },
        "id": "7i8g4HKbffz3",
        "outputId": "fc28de9b-887d-4e7f-fd4c-f2b35d93ba07"
      },
      "execution_count": 71,
      "outputs": [
        {
          "output_type": "stream",
          "name": "stdout",
          "text": [
            "<class 'pandas.core.frame.DataFrame'>\n",
            "RangeIndex: 555 entries, 0 to 554\n",
            "Data columns (total 23 columns):\n",
            " #   Column           Non-Null Count  Dtype \n",
            "---  ------           --------------  ----- \n",
            " 0   added_on         555 non-null    object\n",
            " 1   address          555 non-null    object\n",
            " 2   area             555 non-null    object\n",
            " 3   details          555 non-null    object\n",
            " 4   K1               249 non-null    object\n",
            " 5   K2               505 non-null    object\n",
            " 6   K3               58 non-null     object\n",
            " 7   last_updated     555 non-null    object\n",
            " 8   K4               294 non-null    object\n",
            " 9   K5               491 non-null    object\n",
            " 10  K6               396 non-null    object\n",
            " 11  K7               555 non-null    object\n",
            " 12  price            555 non-null    object\n",
            " 13  BUILDING_NATURE  555 non-null    object\n",
            " 14  property_id      555 non-null    int64 \n",
            " 15  AREA             555 non-null    int64 \n",
            " 16  BUILDING_TYPE    555 non-null    object\n",
            " 17  property_url     555 non-null    object\n",
            " 18  PURPOSE          555 non-null    object\n",
            " 19  K8               201 non-null    object\n",
            " 20  K9               31 non-null     object\n",
            " 21  title            555 non-null    object\n",
            " 22  total_bathrooms  406 non-null    object\n",
            "dtypes: int64(2), object(21)\n",
            "memory usage: 99.9+ KB\n"
          ]
        }
      ]
    },
    {
      "cell_type": "markdown",
      "source": [
        "##Get the District, city data by splitting the area column\n",
        "##Feeding the country column with default as Bangladesh"
      ],
      "metadata": {
        "id": "lGua5e5ynHvn"
      }
    },
    {
      "cell_type": "code",
      "source": [
        "valDf['DISTRICT']=valDf['area'].str.split(',').str[0]\n",
        "valDf['CITY']=valDf['area'].str.split(',').str[1]\n",
        "valDf['OTHERZONEAREA']=valDf['address'].str.split(',').str[-1]\n",
        "valDf['COUNTRY']='Bangladesh'\n",
        "valDf.head()"
      ],
      "metadata": {
        "colab": {
          "base_uri": "https://localhost:8080/",
          "height": 540
        },
        "id": "AfifTzkQhMjL",
        "outputId": "3f4edcd9-7d7f-446f-c988-281834b53b8f"
      },
      "execution_count": 72,
      "outputs": [
        {
          "output_type": "execute_result",
          "data": {
            "text/plain": [
              "                    added_on  \\\n",
              "0   Thu, Apr 6, 2023 7:49 PM   \n",
              "1   Sun, Apr 9, 2023 9:21 AM   \n",
              "2  Wed, Mar 22, 2023 8:42 AM   \n",
              "3  Mon, Mar 20, 2023 5:55 AM   \n",
              "4   Wed, Apr 5, 2023 5:50 AM   \n",
              "\n",
              "                                             address  \\\n",
              "0          CHETONA TOWER, 274/4, Mirpur 60 fit road.   \n",
              "1                                     Gulshan Avenue   \n",
              "2  JCX TOWER,1136/A, Block-I, Level 5, Japan Stre...   \n",
              "3                                     Gulshan Avenue   \n",
              "4  Sardar Complex, 1 South komlapur. Motijheel, D...   \n",
              "\n",
              "                                  area  \\\n",
              "0                        Mirpur, Dhaka   \n",
              "1                Gulshan Avenue, Dhaka   \n",
              "2  Bashundhara Residential Area, Dhaka   \n",
              "3                Gulshan Avenue, Dhaka   \n",
              "4                     Motijheel, Dhaka   \n",
              "\n",
              "                                             details   K1           K2   K3  \\\n",
              "0  Flat sale\\nReady Flat 1000 / 1200 / 1400 Squar...  NaN          NaN  NaN   \n",
              "1  Gulshan avenue is the most expensive and sough...  Yes          NaN  NaN   \n",
              "2  Two Room Furnished Serviced Apartment RENT in ...  Yes  Full Backup  NaN   \n",
              "3  Fully furnished 7000 sft office available for ...  Yes  Full Backup  NaN   \n",
              "4                                         open space  NaN  Full Backup  NaN   \n",
              "\n",
              "                 last_updated   K4 K5  ...  \\\n",
              "0    Sun, Apr 9, 2023 5:12 AM  NaN  5  ...   \n",
              "1    Sun, Apr 9, 2023 9:21 AM  Yes  5  ...   \n",
              "2  Sat, Mar 25, 2023 10:26 AM  Yes  4  ...   \n",
              "3   Mon, Mar 20, 2023 5:55 AM  Yes  7  ...   \n",
              "4   Sat, Apr 8, 2023 11:46 AM  NaN  1  ...   \n",
              "\n",
              "                                        property_url PURPOSE   K8   K9  \\\n",
              "0  https://propertyfinderbd.com/property-details/864    Sale  NaN  NaN   \n",
              "1  https://propertyfinderbd.com/property-details/875    Rent  Yes  NaN   \n",
              "2  https://propertyfinderbd.com/property-details/821    Rent  NaN  NaN   \n",
              "3  https://propertyfinderbd.com/property-details/815    Rent  Yes  NaN   \n",
              "4  https://propertyfinderbd.com/property-details/856    Rent  NaN  NaN   \n",
              "\n",
              "                                               title  total_bathrooms  \\\n",
              "0  Ready Flat 1000 / 1200 / 1400 Square Feet Flat...                3   \n",
              "1   2500 sft office space for rent in Gulshan Avenue              NaN   \n",
              "2  Two Room Furnished Serviced Apartment RENT in ...                1   \n",
              "3  Ready Fully furnished 7,000 sft office for ren...              NaN   \n",
              "4                              Office space for rent               10   \n",
              "\n",
              "                       DISTRICT    CITY         OTHERZONEAREA     COUNTRY  \n",
              "0                        Mirpur   Dhaka   Mirpur 60 fit road.  Bangladesh  \n",
              "1                Gulshan Avenue   Dhaka        Gulshan Avenue  Bangladesh  \n",
              "2  Bashundhara Residential Area   Dhaka       Bashundhara R/A  Bangladesh  \n",
              "3                Gulshan Avenue   Dhaka        Gulshan Avenue  Bangladesh  \n",
              "4                     Motijheel   Dhaka                 Dhaka  Bangladesh  \n",
              "\n",
              "[5 rows x 27 columns]"
            ],
            "text/html": [
              "\n",
              "  <div id=\"df-5bc910f3-ae4e-4f94-8ce0-8acef55e066a\">\n",
              "    <div class=\"colab-df-container\">\n",
              "      <div>\n",
              "<style scoped>\n",
              "    .dataframe tbody tr th:only-of-type {\n",
              "        vertical-align: middle;\n",
              "    }\n",
              "\n",
              "    .dataframe tbody tr th {\n",
              "        vertical-align: top;\n",
              "    }\n",
              "\n",
              "    .dataframe thead th {\n",
              "        text-align: right;\n",
              "    }\n",
              "</style>\n",
              "<table border=\"1\" class=\"dataframe\">\n",
              "  <thead>\n",
              "    <tr style=\"text-align: right;\">\n",
              "      <th></th>\n",
              "      <th>added_on</th>\n",
              "      <th>address</th>\n",
              "      <th>area</th>\n",
              "      <th>details</th>\n",
              "      <th>K1</th>\n",
              "      <th>K2</th>\n",
              "      <th>K3</th>\n",
              "      <th>last_updated</th>\n",
              "      <th>K4</th>\n",
              "      <th>K5</th>\n",
              "      <th>...</th>\n",
              "      <th>property_url</th>\n",
              "      <th>PURPOSE</th>\n",
              "      <th>K8</th>\n",
              "      <th>K9</th>\n",
              "      <th>title</th>\n",
              "      <th>total_bathrooms</th>\n",
              "      <th>DISTRICT</th>\n",
              "      <th>CITY</th>\n",
              "      <th>OTHERZONEAREA</th>\n",
              "      <th>COUNTRY</th>\n",
              "    </tr>\n",
              "  </thead>\n",
              "  <tbody>\n",
              "    <tr>\n",
              "      <th>0</th>\n",
              "      <td>Thu, Apr 6, 2023 7:49 PM</td>\n",
              "      <td>CHETONA TOWER, 274/4, Mirpur 60 fit road.</td>\n",
              "      <td>Mirpur, Dhaka</td>\n",
              "      <td>Flat sale\\nReady Flat 1000 / 1200 / 1400 Squar...</td>\n",
              "      <td>NaN</td>\n",
              "      <td>NaN</td>\n",
              "      <td>NaN</td>\n",
              "      <td>Sun, Apr 9, 2023 5:12 AM</td>\n",
              "      <td>NaN</td>\n",
              "      <td>5</td>\n",
              "      <td>...</td>\n",
              "      <td>https://propertyfinderbd.com/property-details/864</td>\n",
              "      <td>Sale</td>\n",
              "      <td>NaN</td>\n",
              "      <td>NaN</td>\n",
              "      <td>Ready Flat 1000 / 1200 / 1400 Square Feet Flat...</td>\n",
              "      <td>3</td>\n",
              "      <td>Mirpur</td>\n",
              "      <td>Dhaka</td>\n",
              "      <td>Mirpur 60 fit road.</td>\n",
              "      <td>Bangladesh</td>\n",
              "    </tr>\n",
              "    <tr>\n",
              "      <th>1</th>\n",
              "      <td>Sun, Apr 9, 2023 9:21 AM</td>\n",
              "      <td>Gulshan Avenue</td>\n",
              "      <td>Gulshan Avenue, Dhaka</td>\n",
              "      <td>Gulshan avenue is the most expensive and sough...</td>\n",
              "      <td>Yes</td>\n",
              "      <td>NaN</td>\n",
              "      <td>NaN</td>\n",
              "      <td>Sun, Apr 9, 2023 9:21 AM</td>\n",
              "      <td>Yes</td>\n",
              "      <td>5</td>\n",
              "      <td>...</td>\n",
              "      <td>https://propertyfinderbd.com/property-details/875</td>\n",
              "      <td>Rent</td>\n",
              "      <td>Yes</td>\n",
              "      <td>NaN</td>\n",
              "      <td>2500 sft office space for rent in Gulshan Avenue</td>\n",
              "      <td>NaN</td>\n",
              "      <td>Gulshan Avenue</td>\n",
              "      <td>Dhaka</td>\n",
              "      <td>Gulshan Avenue</td>\n",
              "      <td>Bangladesh</td>\n",
              "    </tr>\n",
              "    <tr>\n",
              "      <th>2</th>\n",
              "      <td>Wed, Mar 22, 2023 8:42 AM</td>\n",
              "      <td>JCX TOWER,1136/A, Block-I, Level 5, Japan Stre...</td>\n",
              "      <td>Bashundhara Residential Area, Dhaka</td>\n",
              "      <td>Two Room Furnished Serviced Apartment RENT in ...</td>\n",
              "      <td>Yes</td>\n",
              "      <td>Full Backup</td>\n",
              "      <td>NaN</td>\n",
              "      <td>Sat, Mar 25, 2023 10:26 AM</td>\n",
              "      <td>Yes</td>\n",
              "      <td>4</td>\n",
              "      <td>...</td>\n",
              "      <td>https://propertyfinderbd.com/property-details/821</td>\n",
              "      <td>Rent</td>\n",
              "      <td>NaN</td>\n",
              "      <td>NaN</td>\n",
              "      <td>Two Room Furnished Serviced Apartment RENT in ...</td>\n",
              "      <td>1</td>\n",
              "      <td>Bashundhara Residential Area</td>\n",
              "      <td>Dhaka</td>\n",
              "      <td>Bashundhara R/A</td>\n",
              "      <td>Bangladesh</td>\n",
              "    </tr>\n",
              "    <tr>\n",
              "      <th>3</th>\n",
              "      <td>Mon, Mar 20, 2023 5:55 AM</td>\n",
              "      <td>Gulshan Avenue</td>\n",
              "      <td>Gulshan Avenue, Dhaka</td>\n",
              "      <td>Fully furnished 7000 sft office available for ...</td>\n",
              "      <td>Yes</td>\n",
              "      <td>Full Backup</td>\n",
              "      <td>NaN</td>\n",
              "      <td>Mon, Mar 20, 2023 5:55 AM</td>\n",
              "      <td>Yes</td>\n",
              "      <td>7</td>\n",
              "      <td>...</td>\n",
              "      <td>https://propertyfinderbd.com/property-details/815</td>\n",
              "      <td>Rent</td>\n",
              "      <td>Yes</td>\n",
              "      <td>NaN</td>\n",
              "      <td>Ready Fully furnished 7,000 sft office for ren...</td>\n",
              "      <td>NaN</td>\n",
              "      <td>Gulshan Avenue</td>\n",
              "      <td>Dhaka</td>\n",
              "      <td>Gulshan Avenue</td>\n",
              "      <td>Bangladesh</td>\n",
              "    </tr>\n",
              "    <tr>\n",
              "      <th>4</th>\n",
              "      <td>Wed, Apr 5, 2023 5:50 AM</td>\n",
              "      <td>Sardar Complex, 1 South komlapur. Motijheel, D...</td>\n",
              "      <td>Motijheel, Dhaka</td>\n",
              "      <td>open space</td>\n",
              "      <td>NaN</td>\n",
              "      <td>Full Backup</td>\n",
              "      <td>NaN</td>\n",
              "      <td>Sat, Apr 8, 2023 11:46 AM</td>\n",
              "      <td>NaN</td>\n",
              "      <td>1</td>\n",
              "      <td>...</td>\n",
              "      <td>https://propertyfinderbd.com/property-details/856</td>\n",
              "      <td>Rent</td>\n",
              "      <td>NaN</td>\n",
              "      <td>NaN</td>\n",
              "      <td>Office space for rent</td>\n",
              "      <td>10</td>\n",
              "      <td>Motijheel</td>\n",
              "      <td>Dhaka</td>\n",
              "      <td>Dhaka</td>\n",
              "      <td>Bangladesh</td>\n",
              "    </tr>\n",
              "  </tbody>\n",
              "</table>\n",
              "<p>5 rows × 27 columns</p>\n",
              "</div>\n",
              "      <button class=\"colab-df-convert\" onclick=\"convertToInteractive('df-5bc910f3-ae4e-4f94-8ce0-8acef55e066a')\"\n",
              "              title=\"Convert this dataframe to an interactive table.\"\n",
              "              style=\"display:none;\">\n",
              "        \n",
              "  <svg xmlns=\"http://www.w3.org/2000/svg\" height=\"24px\"viewBox=\"0 0 24 24\"\n",
              "       width=\"24px\">\n",
              "    <path d=\"M0 0h24v24H0V0z\" fill=\"none\"/>\n",
              "    <path d=\"M18.56 5.44l.94 2.06.94-2.06 2.06-.94-2.06-.94-.94-2.06-.94 2.06-2.06.94zm-11 1L8.5 8.5l.94-2.06 2.06-.94-2.06-.94L8.5 2.5l-.94 2.06-2.06.94zm10 10l.94 2.06.94-2.06 2.06-.94-2.06-.94-.94-2.06-.94 2.06-2.06.94z\"/><path d=\"M17.41 7.96l-1.37-1.37c-.4-.4-.92-.59-1.43-.59-.52 0-1.04.2-1.43.59L10.3 9.45l-7.72 7.72c-.78.78-.78 2.05 0 2.83L4 21.41c.39.39.9.59 1.41.59.51 0 1.02-.2 1.41-.59l7.78-7.78 2.81-2.81c.8-.78.8-2.07 0-2.86zM5.41 20L4 18.59l7.72-7.72 1.47 1.35L5.41 20z\"/>\n",
              "  </svg>\n",
              "      </button>\n",
              "      \n",
              "  <style>\n",
              "    .colab-df-container {\n",
              "      display:flex;\n",
              "      flex-wrap:wrap;\n",
              "      gap: 12px;\n",
              "    }\n",
              "\n",
              "    .colab-df-convert {\n",
              "      background-color: #E8F0FE;\n",
              "      border: none;\n",
              "      border-radius: 50%;\n",
              "      cursor: pointer;\n",
              "      display: none;\n",
              "      fill: #1967D2;\n",
              "      height: 32px;\n",
              "      padding: 0 0 0 0;\n",
              "      width: 32px;\n",
              "    }\n",
              "\n",
              "    .colab-df-convert:hover {\n",
              "      background-color: #E2EBFA;\n",
              "      box-shadow: 0px 1px 2px rgba(60, 64, 67, 0.3), 0px 1px 3px 1px rgba(60, 64, 67, 0.15);\n",
              "      fill: #174EA6;\n",
              "    }\n",
              "\n",
              "    [theme=dark] .colab-df-convert {\n",
              "      background-color: #3B4455;\n",
              "      fill: #D2E3FC;\n",
              "    }\n",
              "\n",
              "    [theme=dark] .colab-df-convert:hover {\n",
              "      background-color: #434B5C;\n",
              "      box-shadow: 0px 1px 3px 1px rgba(0, 0, 0, 0.15);\n",
              "      filter: drop-shadow(0px 1px 2px rgba(0, 0, 0, 0.3));\n",
              "      fill: #FFFFFF;\n",
              "    }\n",
              "  </style>\n",
              "\n",
              "      <script>\n",
              "        const buttonEl =\n",
              "          document.querySelector('#df-5bc910f3-ae4e-4f94-8ce0-8acef55e066a button.colab-df-convert');\n",
              "        buttonEl.style.display =\n",
              "          google.colab.kernel.accessAllowed ? 'block' : 'none';\n",
              "\n",
              "        async function convertToInteractive(key) {\n",
              "          const element = document.querySelector('#df-5bc910f3-ae4e-4f94-8ce0-8acef55e066a');\n",
              "          const dataTable =\n",
              "            await google.colab.kernel.invokeFunction('convertToInteractive',\n",
              "                                                     [key], {});\n",
              "          if (!dataTable) return;\n",
              "\n",
              "          const docLinkHtml = 'Like what you see? Visit the ' +\n",
              "            '<a target=\"_blank\" href=https://colab.research.google.com/notebooks/data_table.ipynb>data table notebook</a>'\n",
              "            + ' to learn more about interactive tables.';\n",
              "          element.innerHTML = '';\n",
              "          dataTable['output_type'] = 'display_data';\n",
              "          await google.colab.output.renderOutput(dataTable, element);\n",
              "          const docLink = document.createElement('div');\n",
              "          docLink.innerHTML = docLinkHtml;\n",
              "          element.appendChild(docLink);\n",
              "        }\n",
              "      </script>\n",
              "    </div>\n",
              "  </div>\n",
              "  "
            ]
          },
          "metadata": {},
          "execution_count": 72
        }
      ]
    },
    {
      "cell_type": "markdown",
      "source": [
        "##Looking up unique values of the field to see if there are any null or junk values"
      ],
      "metadata": {
        "id": "nMhSx6c5nkWF"
      }
    },
    {
      "cell_type": "code",
      "source": [
        "valDf['BUILDING_NATURE'].unique()"
      ],
      "metadata": {
        "colab": {
          "base_uri": "https://localhost:8080/"
        },
        "id": "qv1G2Rxnc3rS",
        "outputId": "48477a70-e773-4877-9e11-af56c0292630"
      },
      "execution_count": 73,
      "outputs": [
        {
          "output_type": "execute_result",
          "data": {
            "text/plain": [
              "array(['Residential', 'Commercial', 'Land', 'None'], dtype=object)"
            ]
          },
          "metadata": {},
          "execution_count": 73
        }
      ]
    },
    {
      "cell_type": "code",
      "source": [
        "valDf['BUILDING_TYPE'].unique()"
      ],
      "metadata": {
        "colab": {
          "base_uri": "https://localhost:8080/"
        },
        "id": "VAY4Lo0klxXn",
        "outputId": "27cebc50-f892-411b-d9c4-14cd4db397ea"
      },
      "execution_count": 74,
      "outputs": [
        {
          "output_type": "execute_result",
          "data": {
            "text/plain": [
              "array(['Apartment', 'Office Space', 'Service Apartment', 'Office',\n",
              "       'Factory Shade', 'Commercial Plot', 'Commercial Building',\n",
              "       'Industrial Plot', 'Ready Flat', 'Plot', 'Building', 'House',\n",
              "       'Open Field', 'Factory Land', 'High Land', 'Factory Building',\n",
              "       'Factory Sale', 'Apartment Office', 'Warehouse',\n",
              "       'Building For Office', 'Furnished', 'Floor', 'Land with building',\n",
              "       'Office Building', 'Brand New Apartment', 'Show-room',\n",
              "       'Duplex House', 'None', 'Resorts / Banglobari', 'Duplex Apartment',\n",
              "       'Open Floor', 'Semi Commercial Apartment'], dtype=object)"
            ]
          },
          "metadata": {},
          "execution_count": 74
        }
      ]
    },
    {
      "cell_type": "code",
      "source": [
        "valDf['PURPOSE'].unique()"
      ],
      "metadata": {
        "colab": {
          "base_uri": "https://localhost:8080/"
        },
        "id": "IlId5zwfl91B",
        "outputId": "75615406-37c1-42c5-9834-1d1ae4b0d3cb"
      },
      "execution_count": 75,
      "outputs": [
        {
          "output_type": "execute_result",
          "data": {
            "text/plain": [
              "array(['Sale', 'Rent'], dtype=object)"
            ]
          },
          "metadata": {},
          "execution_count": 75
        }
      ]
    },
    {
      "cell_type": "code",
      "source": [
        "valDf['K1'].unique()\n"
      ],
      "metadata": {
        "colab": {
          "base_uri": "https://localhost:8080/"
        },
        "id": "XBk0rR_-mF8M",
        "outputId": "89f55c82-0478-42b3-d1eb-9284c6e7cb1f"
      },
      "execution_count": 76,
      "outputs": [
        {
          "output_type": "execute_result",
          "data": {
            "text/plain": [
              "array([nan, 'Yes'], dtype=object)"
            ]
          },
          "metadata": {},
          "execution_count": 76
        }
      ]
    },
    {
      "cell_type": "code",
      "source": [
        "valDf['K2'].unique()\n"
      ],
      "metadata": {
        "colab": {
          "base_uri": "https://localhost:8080/"
        },
        "id": "5CuhRLaKoALT",
        "outputId": "6633a57a-6792-42cc-9145-41a0a64f9d67"
      },
      "execution_count": 77,
      "outputs": [
        {
          "output_type": "execute_result",
          "data": {
            "text/plain": [
              "array([nan, 'Full Backup', 'No', 'Partial'], dtype=object)"
            ]
          },
          "metadata": {},
          "execution_count": 77
        }
      ]
    },
    {
      "cell_type": "code",
      "source": [
        "valDf['K3'].unique()\n"
      ],
      "metadata": {
        "colab": {
          "base_uri": "https://localhost:8080/"
        },
        "id": "j45j-VKGoC2l",
        "outputId": "27400cc0-ad3f-4523-dd42-290180ab2130"
      },
      "execution_count": 78,
      "outputs": [
        {
          "output_type": "execute_result",
          "data": {
            "text/plain": [
              "array([nan, 'Yes'], dtype=object)"
            ]
          },
          "metadata": {},
          "execution_count": 78
        }
      ]
    },
    {
      "cell_type": "code",
      "source": [
        "valDf['K4'].unique()\n"
      ],
      "metadata": {
        "colab": {
          "base_uri": "https://localhost:8080/"
        },
        "id": "W-nty7vxoEgs",
        "outputId": "054319fb-ad37-4f44-f1ae-5d731756244a"
      },
      "execution_count": 79,
      "outputs": [
        {
          "output_type": "execute_result",
          "data": {
            "text/plain": [
              "array([nan, 'Yes'], dtype=object)"
            ]
          },
          "metadata": {},
          "execution_count": 79
        }
      ]
    },
    {
      "cell_type": "code",
      "source": [
        "valDf['K5'].unique()\n"
      ],
      "metadata": {
        "colab": {
          "base_uri": "https://localhost:8080/"
        },
        "id": "Ga5u41vCoGNV",
        "outputId": "36c8e524-fc4c-47fc-a5a4-e7e383438a20"
      },
      "execution_count": 80,
      "outputs": [
        {
          "output_type": "execute_result",
          "data": {
            "text/plain": [
              "array(['5', '4', '7', '1', nan, '3', '9', '2', '6', '18', '19', '11',\n",
              "       '17', '10', '30+', '16', '12', '15', '13'], dtype=object)"
            ]
          },
          "metadata": {},
          "execution_count": 80
        }
      ]
    },
    {
      "cell_type": "code",
      "source": [
        "valDf['K6'].unique()\n"
      ],
      "metadata": {
        "colab": {
          "base_uri": "https://localhost:8080/"
        },
        "id": "0NgSsFukoHw9",
        "outputId": "a76a4e44-f5bc-418f-eb25-6458786eec2b"
      },
      "execution_count": 81,
      "outputs": [
        {
          "output_type": "execute_result",
          "data": {
            "text/plain": [
              "array([nan, '2 Slot', '1 Slot', '4 Slot', '20 Slot', '5 Slot', '7 Slot',\n",
              "       '3 Slot', '6 Slot', 'N/A Slot', '8 Slot', '১ Slot', '10+ Slot',\n",
              "       '10 Slot', '50 Slot', '28 Slot',\n",
              "       '2 level of basement Parking Slot', '14 Slot', '12 Slot',\n",
              "       '20+ Slot', '5/7 Slot', '1216 Slot', '37 Slot'], dtype=object)"
            ]
          },
          "metadata": {},
          "execution_count": 81
        }
      ]
    },
    {
      "cell_type": "code",
      "source": [
        "valDf['K7'].unique()\n"
      ],
      "metadata": {
        "colab": {
          "base_uri": "https://localhost:8080/"
        },
        "id": "qy_eXO_CoJke",
        "outputId": "01b13d75-550e-4990-c651-fc23fc618db9"
      },
      "execution_count": 82,
      "outputs": [
        {
          "output_type": "execute_result",
          "data": {
            "text/plain": [
              "array(['Vacant', 'Hired'], dtype=object)"
            ]
          },
          "metadata": {},
          "execution_count": 82
        }
      ]
    },
    {
      "cell_type": "code",
      "source": [
        "valDf['K8'].unique()\n"
      ],
      "metadata": {
        "colab": {
          "base_uri": "https://localhost:8080/"
        },
        "id": "35711Ev7ocEy",
        "outputId": "1697a731-a927-4271-9c64-c8b02ac6d159"
      },
      "execution_count": 83,
      "outputs": [
        {
          "output_type": "execute_result",
          "data": {
            "text/plain": [
              "array([nan, 'Yes'], dtype=object)"
            ]
          },
          "metadata": {},
          "execution_count": 83
        }
      ]
    },
    {
      "cell_type": "code",
      "source": [
        "valDf['K9'].unique()"
      ],
      "metadata": {
        "colab": {
          "base_uri": "https://localhost:8080/"
        },
        "id": "rJJZ7HQHodz2",
        "outputId": "fb5d2f34-1802-410f-81df-8c55ba6d028e"
      },
      "execution_count": 84,
      "outputs": [
        {
          "output_type": "execute_result",
          "data": {
            "text/plain": [
              "array([nan, 'Yes'], dtype=object)"
            ]
          },
          "metadata": {},
          "execution_count": 84
        }
      ]
    },
    {
      "cell_type": "code",
      "source": [
        "valDf.info()"
      ],
      "metadata": {
        "colab": {
          "base_uri": "https://localhost:8080/"
        },
        "id": "F_vZ0ToOmMSS",
        "outputId": "f7fc089a-17b8-48fe-935f-7e9c18d72877"
      },
      "execution_count": 85,
      "outputs": [
        {
          "output_type": "stream",
          "name": "stdout",
          "text": [
            "<class 'pandas.core.frame.DataFrame'>\n",
            "RangeIndex: 555 entries, 0 to 554\n",
            "Data columns (total 27 columns):\n",
            " #   Column           Non-Null Count  Dtype \n",
            "---  ------           --------------  ----- \n",
            " 0   added_on         555 non-null    object\n",
            " 1   address          555 non-null    object\n",
            " 2   area             555 non-null    object\n",
            " 3   details          555 non-null    object\n",
            " 4   K1               249 non-null    object\n",
            " 5   K2               505 non-null    object\n",
            " 6   K3               58 non-null     object\n",
            " 7   last_updated     555 non-null    object\n",
            " 8   K4               294 non-null    object\n",
            " 9   K5               491 non-null    object\n",
            " 10  K6               396 non-null    object\n",
            " 11  K7               555 non-null    object\n",
            " 12  price            555 non-null    object\n",
            " 13  BUILDING_NATURE  555 non-null    object\n",
            " 14  property_id      555 non-null    int64 \n",
            " 15  AREA             555 non-null    int64 \n",
            " 16  BUILDING_TYPE    555 non-null    object\n",
            " 17  property_url     555 non-null    object\n",
            " 18  PURPOSE          555 non-null    object\n",
            " 19  K8               201 non-null    object\n",
            " 20  K9               31 non-null     object\n",
            " 21  title            555 non-null    object\n",
            " 22  total_bathrooms  406 non-null    object\n",
            " 23  DISTRICT         555 non-null    object\n",
            " 24  CITY             555 non-null    object\n",
            " 25  OTHERZONEAREA    555 non-null    object\n",
            " 26  COUNTRY          555 non-null    object\n",
            "dtypes: int64(2), object(25)\n",
            "memory usage: 117.2+ KB\n"
          ]
        }
      ]
    },
    {
      "cell_type": "markdown",
      "source": [
        "valDf['swimming_pool'].unique()\n",
        "valDf['swimming_pool']=valDf['swimming_pool'].replace(['Yes'],'1')"
      ],
      "metadata": {
        "id": "NwGi6BTzmK73"
      }
    },
    {
      "cell_type": "code",
      "source": [],
      "metadata": {
        "id": "SAQq5YJof2CH"
      },
      "execution_count": 85,
      "outputs": []
    }
  ]
}